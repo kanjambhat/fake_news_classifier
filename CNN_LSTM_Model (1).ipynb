{
  "nbformat": 4,
  "nbformat_minor": 0,
  "metadata": {
    "colab": {
      "name": "CNN-LSTM_Model.ipynb",
      "provenance": []
    },
    "kernelspec": {
      "name": "python3",
      "display_name": "Python 3"
    },
    "language_info": {
      "name": "python"
    }
  },
  "cells": [
    {
      "cell_type": "code",
      "metadata": {
        "colab": {
          "base_uri": "https://localhost:8080/"
        },
        "id": "AiVzf3i-oM8E",
        "outputId": "c828563e-9a5d-41b3-e5c2-b0535554fa80"
      },
      "source": [
        "!pip install ftfy"
      ],
      "execution_count": 1,
      "outputs": [
        {
          "output_type": "stream",
          "text": [
            "Collecting ftfy\n",
            "\u001b[?25l  Downloading https://files.pythonhosted.org/packages/af/da/d215a091986e5f01b80f5145cff6f22e2dc57c6b048aab2e882a07018473/ftfy-6.0.3.tar.gz (64kB)\n",
            "\r\u001b[K     |█████                           | 10kB 23.5MB/s eta 0:00:01\r\u001b[K     |██████████▏                     | 20kB 18.2MB/s eta 0:00:01\r\u001b[K     |███████████████▎                | 30kB 15.0MB/s eta 0:00:01\r\u001b[K     |████████████████████▍           | 40kB 13.8MB/s eta 0:00:01\r\u001b[K     |█████████████████████████▌      | 51kB 7.8MB/s eta 0:00:01\r\u001b[K     |██████████████████████████████▋ | 61kB 9.1MB/s eta 0:00:01\r\u001b[K     |████████████████████████████████| 71kB 6.0MB/s \n",
            "\u001b[?25hRequirement already satisfied: wcwidth in /usr/local/lib/python3.7/dist-packages (from ftfy) (0.2.5)\n",
            "Building wheels for collected packages: ftfy\n",
            "  Building wheel for ftfy (setup.py) ... \u001b[?25l\u001b[?25hdone\n",
            "  Created wheel for ftfy: filename=ftfy-6.0.3-cp37-none-any.whl size=41935 sha256=50787fb9b1a501d182eaa5fcfc4aec8dbb0f463cdd0ba0fb0f9ce084706ccd85\n",
            "  Stored in directory: /root/.cache/pip/wheels/99/2c/e6/109c8a28fef7a443f67ba58df21fe1d0067ac3322e75e6b0b7\n",
            "Successfully built ftfy\n",
            "Installing collected packages: ftfy\n",
            "Successfully installed ftfy-6.0.3\n"
          ],
          "name": "stdout"
        }
      ]
    },
    {
      "cell_type": "code",
      "metadata": {
        "colab": {
          "base_uri": "https://localhost:8080/"
        },
        "id": "9IKmlDeio0ER",
        "outputId": "cca8f8ca-c769-4f3d-cd99-e902d44301fa"
      },
      "source": [
        "from google.colab import drive\n",
        "drive.mount('/content/gdrive',force_remount=True)"
      ],
      "execution_count": 3,
      "outputs": [
        {
          "output_type": "stream",
          "text": [
            "Mounted at /content/gdrive\n"
          ],
          "name": "stdout"
        }
      ]
    },
    {
      "cell_type": "code",
      "metadata": {
        "id": "TZsDcMGopTl1"
      },
      "source": [
        "import re #matching regular expression\n",
        "import ftfy #fixes text for you:fixes all the junk characters\n",
        "import nltk#natural language toolkit\n",
        "import itertools #for iterations to matrix\n",
        "import numpy as np #for array\n",
        "import warnings #overcome warnings\n",
        "warnings.filterwarnings(\"ignore\")\n",
        "import pandas as pd #read data\n",
        "import pickle as pkl #store tokenizer\n",
        "from pathlib import Path #create json file\n",
        "from nltk import PorterStemmer #for stemming process\n",
        "import matplotlib.pyplot as plt #plot confusion matrix\n",
        "from nltk.corpus import stopwords #for remove stop words\n",
        "from sklearn.model_selection import train_test_split #split data\n",
        "from keras.models import Model, Sequential #adding layers one by one\n",
        "from keras.optimizers import Adam #for optimize the training\n",
        "from keras.preprocessing.text import Tokenizer #to genarate unique number for uniq words\n",
        "from keras.preprocessing.sequence import pad_sequences #for making all the record has same shape\n",
        "from sklearn.metrics import  classification_report, confusion_matrix, accuracy_score #for evaluate the model accuracy\n",
        "from keras.layers import Conv1D, Dense, Input, LSTM, Embedding, Dropout, Activation, MaxPooling1D #Layers for build model"
      ],
      "execution_count": 4,
      "outputs": []
    },
    {
      "cell_type": "code",
      "metadata": {
        "id": "ezKrX7zlphzx"
      },
      "source": [
        "max_length=300\n",
        "nb_max_words=100000\n",
        "embedding_dim=10"
      ],
      "execution_count": 5,
      "outputs": []
    },
    {
      "cell_type": "code",
      "metadata": {
        "id": "RX3F7GU_pmMh"
      },
      "source": [
        "fake_news = '/content/gdrive/MyDrive/Fake_News/Fake.csv'\n",
        "true_news = '/content/gdrive/MyDrive/Fake_News/True.csv'"
      ],
      "execution_count": 7,
      "outputs": []
    },
    {
      "cell_type": "code",
      "metadata": {
        "id": "mT8qyIWTpoZx"
      },
      "source": [
        "df_fake_news = pd.read_csv(fake_news)\n",
        "df_true_news = pd.read_csv(true_news)"
      ],
      "execution_count": 8,
      "outputs": []
    },
    {
      "cell_type": "code",
      "metadata": {
        "id": "Df9X_4NAqj8C"
      },
      "source": [
        "cList = pkl.load(open('/content/gdrive/MyDrive/Fake_News/cword_dict.pkl','rb'))"
      ],
      "execution_count": 9,
      "outputs": []
    },
    {
      "cell_type": "code",
      "metadata": {
        "id": "jE73Y_l5qoUs"
      },
      "source": [
        "c_re = re.compile('(%s)' % '|'.join(cList.keys()))"
      ],
      "execution_count": 10,
      "outputs": []
    },
    {
      "cell_type": "code",
      "metadata": {
        "id": "5J8oPap4qqzn"
      },
      "source": [
        "def expandContractions(text, c_re=c_re):\n",
        "    def replace(match):\n",
        "        return cList[match.group(0)]\n",
        "    return c_re.sub(replace, text)"
      ],
      "execution_count": 11,
      "outputs": []
    },
    {
      "cell_type": "code",
      "metadata": {
        "id": "vxCrE2ybqtsB"
      },
      "source": [
        "def clean_news(newses):\n",
        "    cleaned_news = []\n",
        "    for news in newses:\n",
        "        news = str(news)\n",
        "        if re.match(\"(\\w+:\\/\\/\\S+)\", news) == None and len(news) > 5:\n",
        "            news = ' '.join(re.sub(\"(@[A-Za-z0-9]+)|(\\#[A-Za-z0-9]+)|(<Emoji:.*>)|(pic\\.twitter\\.com\\/.*)\", \" \", news).split())\n",
        "            news = ftfy.fix_text(news)\n",
        "            news = expandContractions(news)\n",
        "            news = ' '.join(re.sub(\"([^0-9A-Za-z \\t])\", \" \", news).split())\n",
        "            stop_words = stopwords.words('english')\n",
        "            word_tokens = nltk.word_tokenize(news) \n",
        "            filtered_sentence = [w for w in word_tokens if not w in stop_words]\n",
        "            news = ' '.join(filtered_sentence)\n",
        "            news = PorterStemmer().stem(news)\n",
        "            cleaned_news.append(news)\n",
        "    return cleaned_news"
      ],
      "execution_count": 13,
      "outputs": []
    },
    {
      "cell_type": "code",
      "metadata": {
        "id": "E5erswTpqvqV"
      },
      "source": [
        "arr_fake_news = [x for x in df_fake_news['text']]\n",
        "arr_true_news = [x for x in df_true_news['text']]"
      ],
      "execution_count": 14,
      "outputs": []
    },
    {
      "cell_type": "code",
      "metadata": {
        "colab": {
          "base_uri": "https://localhost:8080/"
        },
        "id": "TTk-yiOkqznk",
        "outputId": "0cb7be29-f6d2-44bd-daaf-3a038b9e00bc"
      },
      "source": [
        "nltk.download('stopwords')\n",
        "nltk.download('punkt')"
      ],
      "execution_count": 15,
      "outputs": [
        {
          "output_type": "stream",
          "text": [
            "[nltk_data] Downloading package stopwords to /root/nltk_data...\n",
            "[nltk_data]   Unzipping corpora/stopwords.zip.\n",
            "[nltk_data] Downloading package punkt to /root/nltk_data...\n",
            "[nltk_data]   Unzipping tokenizers/punkt.zip.\n"
          ],
          "name": "stdout"
        },
        {
          "output_type": "execute_result",
          "data": {
            "text/plain": [
              "True"
            ]
          },
          "metadata": {
            "tags": []
          },
          "execution_count": 15
        }
      ]
    },
    {
      "cell_type": "code",
      "metadata": {
        "id": "kEwTNU_Eq3gl"
      },
      "source": [
        "cleaned_fake_news = clean_news(arr_fake_news)\n",
        "cleaned_true_news = clean_news(arr_true_news)"
      ],
      "execution_count": 16,
      "outputs": []
    },
    {
      "cell_type": "code",
      "metadata": {
        "id": "UldNpD6fq7BR"
      },
      "source": [
        "# tokenizer = Tokenizer(num_words=nb_max_words)\n",
        "# print(tokenizer)\n",
        "# tokenizer.fit_on_texts(cleaned_fake_news + cleaned_true_news)\n",
        "from keras.preprocessing.text import one_hot"
      ],
      "execution_count": 17,
      "outputs": []
    },
    {
      "cell_type": "code",
      "metadata": {
        "id": "izLOuvOvr7YK"
      },
      "source": [
        "# sequences_fake = tokenizer.texts_to_sequences(cleaned_fake_news)\n",
        "# sequences_true = tokenizer.texts_to_sequences(cleaned_true_news)\n",
        "\n",
        "sequences_fake=[one_hot(words,nb_max_words) for words in cleaned_fake_news]\n",
        "sequences_true=[one_hot(words,nb_max_words) for words in cleaned_true_news]"
      ],
      "execution_count": 18,
      "outputs": []
    },
    {
      "cell_type": "code",
      "metadata": {
        "colab": {
          "base_uri": "https://localhost:8080/"
        },
        "id": "f01Ec2pWsC1n",
        "outputId": "b342673f-e23f-42b5-db78-7707a60fa6d9"
      },
      "source": [
        "data_f = pad_sequences(sequences_fake,padding='pre', maxlen=max_length)\n",
        "data_t = pad_sequences(sequences_true,padding='pre', maxlen=max_length)\n",
        "print('Shape of data_fake tensor:', data_f.shape)\n",
        "print('Shape of data_true tensor:', data_t.shape)"
      ],
      "execution_count": 19,
      "outputs": [
        {
          "output_type": "stream",
          "text": [
            "Shape of data_fake tensor: (22755, 300)\n",
            "Shape of data_true tensor: (21416, 300)\n"
          ],
          "name": "stdout"
        }
      ]
    },
    {
      "cell_type": "code",
      "metadata": {
        "colab": {
          "base_uri": "https://localhost:8080/"
        },
        "id": "bytOQh3QsFEo",
        "outputId": "e09feb0c-9383-4cae-b46f-3c0caa7df18f"
      },
      "source": [
        "print(data_f.shape, data_t.shape)"
      ],
      "execution_count": 20,
      "outputs": [
        {
          "output_type": "stream",
          "text": [
            "(22755, 300) (21416, 300)\n"
          ],
          "name": "stdout"
        }
      ]
    },
    {
      "cell_type": "code",
      "metadata": {
        "id": "f9K0YNBfsH_8"
      },
      "source": [
        "data = np.concatenate((data_f, data_t))"
      ],
      "execution_count": 21,
      "outputs": []
    },
    {
      "cell_type": "code",
      "metadata": {
        "colab": {
          "base_uri": "https://localhost:8080/"
        },
        "id": "qTTcUKR_sKxq",
        "outputId": "a1203c70-4dce-46d4-cfa8-2e69358a9e42"
      },
      "source": [
        "labels_f = np.ones(data_f.shape[0])\n",
        "labels_t = np.zeros(data_t.shape[0])\n",
        "print(labels_f.shape, labels_t.shape)"
      ],
      "execution_count": 22,
      "outputs": [
        {
          "output_type": "stream",
          "text": [
            "(22755,) (21416,)\n"
          ],
          "name": "stdout"
        }
      ]
    },
    {
      "cell_type": "code",
      "metadata": {
        "id": "3thGj6r5sNHn"
      },
      "source": [
        "labels = np.concatenate((labels_f, labels_t))"
      ],
      "execution_count": 23,
      "outputs": []
    },
    {
      "cell_type": "code",
      "metadata": {
        "id": "aK-S7A6ksPIH"
      },
      "source": [
        "X_train, X_test, Y_train, Y_test = train_test_split(data, labels, test_size = 0.2, random_state=42)"
      ],
      "execution_count": 24,
      "outputs": []
    },
    {
      "cell_type": "code",
      "metadata": {
        "colab": {
          "base_uri": "https://localhost:8080/"
        },
        "id": "Lk76-vN0sRSz",
        "outputId": "1907b920-282d-4b04-b0d6-fa317e83ecdc"
      },
      "source": [
        "print(X_train.shape, Y_train.shape, X_test.shape, Y_test.shape)"
      ],
      "execution_count": 25,
      "outputs": [
        {
          "output_type": "stream",
          "text": [
            "(35336, 300) (35336,) (8835, 300) (8835,)\n"
          ],
          "name": "stdout"
        }
      ]
    },
    {
      "cell_type": "code",
      "metadata": {
        "id": "VgB88RzPsyEr"
      },
      "source": [
        "from keras.layers import Flatten"
      ],
      "execution_count": 27,
      "outputs": []
    },
    {
      "cell_type": "code",
      "metadata": {
        "colab": {
          "base_uri": "https://localhost:8080/"
        },
        "id": "mVix5n5qsUr5",
        "outputId": "993d0c77-a1b3-483f-d29f-90c401149834"
      },
      "source": [
        "model=Sequential()\n",
        "model.add(Embedding(nb_max_words,embedding_dim,input_length=max_length))\n",
        "model.add(Dropout(0.7))\n",
        "\n",
        "model.add(Conv1D(filters=16,kernel_size=3,padding='valid',activation='relu'))\n",
        "model.add(MaxPooling1D())\n",
        "model.add(Dropout(0.7))\n",
        "model.add(Conv1D(filters=32,kernel_size=3,padding='valid',activation='relu'))\n",
        "model.add(MaxPooling1D())\n",
        "model.add(Dropout(0.7))\n",
        "model.add(LSTM(100))\n",
        "model.add(Dropout(0.5))\n",
        "model.add(Flatten())\n",
        "model.add(Dense(64,activation='relu'))\n",
        "model.add(Dropout(0.7))\n",
        "model.add(Dense(1,activation='sigmoid'))\n",
        "model.compile(optimizer='adam',loss='binary_crossentropy',metrics=['accuracy'])\n",
        "print(model.summary())"
      ],
      "execution_count": 28,
      "outputs": [
        {
          "output_type": "stream",
          "text": [
            "Model: \"sequential\"\n",
            "_________________________________________________________________\n",
            "Layer (type)                 Output Shape              Param #   \n",
            "=================================================================\n",
            "embedding (Embedding)        (None, 300, 10)           1000000   \n",
            "_________________________________________________________________\n",
            "dropout (Dropout)            (None, 300, 10)           0         \n",
            "_________________________________________________________________\n",
            "conv1d (Conv1D)              (None, 298, 16)           496       \n",
            "_________________________________________________________________\n",
            "max_pooling1d (MaxPooling1D) (None, 149, 16)           0         \n",
            "_________________________________________________________________\n",
            "dropout_1 (Dropout)          (None, 149, 16)           0         \n",
            "_________________________________________________________________\n",
            "conv1d_1 (Conv1D)            (None, 147, 32)           1568      \n",
            "_________________________________________________________________\n",
            "max_pooling1d_1 (MaxPooling1 (None, 73, 32)            0         \n",
            "_________________________________________________________________\n",
            "dropout_2 (Dropout)          (None, 73, 32)            0         \n",
            "_________________________________________________________________\n",
            "lstm (LSTM)                  (None, 100)               53200     \n",
            "_________________________________________________________________\n",
            "dropout_3 (Dropout)          (None, 100)               0         \n",
            "_________________________________________________________________\n",
            "flatten (Flatten)            (None, 100)               0         \n",
            "_________________________________________________________________\n",
            "dense (Dense)                (None, 64)                6464      \n",
            "_________________________________________________________________\n",
            "dropout_4 (Dropout)          (None, 64)                0         \n",
            "_________________________________________________________________\n",
            "dense_1 (Dense)              (None, 1)                 65        \n",
            "=================================================================\n",
            "Total params: 1,061,793\n",
            "Trainable params: 1,061,793\n",
            "Non-trainable params: 0\n",
            "_________________________________________________________________\n",
            "None\n"
          ],
          "name": "stdout"
        }
      ]
    },
    {
      "cell_type": "code",
      "metadata": {
        "colab": {
          "base_uri": "https://localhost:8080/"
        },
        "id": "t9rKh8EusfoN",
        "outputId": "9c42c766-c879-444e-9715-b7e8438bf8d0"
      },
      "source": [
        "model.fit(X_train,Y_train,validation_data=(X_test,Y_test),epochs=10,batch_size=64)"
      ],
      "execution_count": 29,
      "outputs": [
        {
          "output_type": "stream",
          "text": [
            "Epoch 1/10\n",
            "553/553 [==============================] - 73s 99ms/step - loss: 0.6191 - accuracy: 0.5859 - val_loss: 1.3556 - val_accuracy: 0.6783\n",
            "Epoch 2/10\n",
            "553/553 [==============================] - 54s 97ms/step - loss: 0.1664 - accuracy: 0.9414 - val_loss: 0.9185 - val_accuracy: 0.7477\n",
            "Epoch 3/10\n",
            "553/553 [==============================] - 55s 100ms/step - loss: 0.1109 - accuracy: 0.9615 - val_loss: 1.0810 - val_accuracy: 0.7759\n",
            "Epoch 4/10\n",
            "553/553 [==============================] - 54s 99ms/step - loss: 0.0886 - accuracy: 0.9703 - val_loss: 0.7551 - val_accuracy: 0.8028\n",
            "Epoch 5/10\n",
            "553/553 [==============================] - 54s 98ms/step - loss: 0.0719 - accuracy: 0.9761 - val_loss: 0.9002 - val_accuracy: 0.7799\n",
            "Epoch 6/10\n",
            "553/553 [==============================] - 55s 100ms/step - loss: 0.0536 - accuracy: 0.9824 - val_loss: 0.7393 - val_accuracy: 0.8264\n",
            "Epoch 7/10\n",
            "553/553 [==============================] - 55s 99ms/step - loss: 0.0539 - accuracy: 0.9828 - val_loss: 0.9190 - val_accuracy: 0.7920\n",
            "Epoch 8/10\n",
            "553/553 [==============================] - 54s 98ms/step - loss: 0.0457 - accuracy: 0.9856 - val_loss: 0.6487 - val_accuracy: 0.8557\n",
            "Epoch 9/10\n",
            "553/553 [==============================] - 55s 100ms/step - loss: 0.0405 - accuracy: 0.9871 - val_loss: 0.7185 - val_accuracy: 0.8360\n",
            "Epoch 10/10\n",
            "553/553 [==============================] - 55s 99ms/step - loss: 0.0396 - accuracy: 0.9871 - val_loss: 1.2678 - val_accuracy: 0.7792\n"
          ],
          "name": "stdout"
        },
        {
          "output_type": "execute_result",
          "data": {
            "text/plain": [
              "<keras.callbacks.History at 0x7fb33cd6af10>"
            ]
          },
          "metadata": {
            "tags": []
          },
          "execution_count": 29
        }
      ]
    },
    {
      "cell_type": "code",
      "metadata": {
        "id": "oAq_4ywhJpQw"
      },
      "source": [
        "model.save('CNN-LSTM_model.h5')"
      ],
      "execution_count": 30,
      "outputs": []
    },
    {
      "cell_type": "code",
      "metadata": {
        "id": "MQbaAidov4-R"
      },
      "source": [
        "from keras.models import model_from_json"
      ],
      "execution_count": null,
      "outputs": []
    },
    {
      "cell_type": "code",
      "metadata": {
        "colab": {
          "base_uri": "https://localhost:8080/",
          "height": 374
        },
        "id": "G-dYzE0dBJv0",
        "outputId": "6d78eb53-078b-461b-8856-c24247bcd38d"
      },
      "source": [
        "model_json=model.to_json()\n",
        "with open('CNN-LSTM_model.json','w') as json_file:\n",
        "  json_file.write(model_json)\n",
        "\n",
        "model.save_weights('CNN-LSTM_weights.h5')"
      ],
      "execution_count": null,
      "outputs": [
        {
          "output_type": "error",
          "ename": "NotImplementedError",
          "evalue": "ignored",
          "traceback": [
            "\u001b[0;31m---------------------------------------------------------------------------\u001b[0m",
            "\u001b[0;31mNotImplementedError\u001b[0m                       Traceback (most recent call last)",
            "\u001b[0;32m<ipython-input-35-a0ed02112be4>\u001b[0m in \u001b[0;36m<module>\u001b[0;34m()\u001b[0m\n\u001b[0;32m----> 1\u001b[0;31m \u001b[0mmodel_json\u001b[0m\u001b[0;34m=\u001b[0m\u001b[0mmodel\u001b[0m\u001b[0;34m.\u001b[0m\u001b[0mto_json\u001b[0m\u001b[0;34m(\u001b[0m\u001b[0;34m)\u001b[0m\u001b[0;34m\u001b[0m\u001b[0;34m\u001b[0m\u001b[0m\n\u001b[0m\u001b[1;32m      2\u001b[0m \u001b[0;32mwith\u001b[0m \u001b[0mopen\u001b[0m\u001b[0;34m(\u001b[0m\u001b[0;34m'CNN-LSTM_model.json'\u001b[0m\u001b[0;34m,\u001b[0m\u001b[0;34m'w'\u001b[0m\u001b[0;34m)\u001b[0m \u001b[0;32mas\u001b[0m \u001b[0mjson_file\u001b[0m\u001b[0;34m:\u001b[0m\u001b[0;34m\u001b[0m\u001b[0;34m\u001b[0m\u001b[0m\n\u001b[1;32m      3\u001b[0m   \u001b[0mjson_file\u001b[0m\u001b[0;34m.\u001b[0m\u001b[0mwrite\u001b[0m\u001b[0;34m(\u001b[0m\u001b[0mmodel_json\u001b[0m\u001b[0;34m)\u001b[0m\u001b[0;34m\u001b[0m\u001b[0;34m\u001b[0m\u001b[0m\n\u001b[1;32m      4\u001b[0m \u001b[0;34m\u001b[0m\u001b[0m\n\u001b[1;32m      5\u001b[0m \u001b[0mmodel\u001b[0m\u001b[0;34m.\u001b[0m\u001b[0msave_weights\u001b[0m\u001b[0;34m(\u001b[0m\u001b[0;34m'CNN-LSTM_weights.h5'\u001b[0m\u001b[0;34m)\u001b[0m\u001b[0;34m\u001b[0m\u001b[0;34m\u001b[0m\u001b[0m\n",
            "\u001b[0;32m/usr/local/lib/python3.7/dist-packages/keras/engine/training.py\u001b[0m in \u001b[0;36mto_json\u001b[0;34m(self, **kwargs)\u001b[0m\n\u001b[1;32m   2351\u001b[0m         \u001b[0mA\u001b[0m \u001b[0mJSON\u001b[0m \u001b[0mstring\u001b[0m\u001b[0;34m.\u001b[0m\u001b[0;34m\u001b[0m\u001b[0;34m\u001b[0m\u001b[0m\n\u001b[1;32m   2352\u001b[0m     \"\"\"\n\u001b[0;32m-> 2353\u001b[0;31m     \u001b[0mmodel_config\u001b[0m \u001b[0;34m=\u001b[0m \u001b[0mself\u001b[0m\u001b[0;34m.\u001b[0m\u001b[0m_updated_config\u001b[0m\u001b[0;34m(\u001b[0m\u001b[0;34m)\u001b[0m\u001b[0;34m\u001b[0m\u001b[0;34m\u001b[0m\u001b[0m\n\u001b[0m\u001b[1;32m   2354\u001b[0m     return json.dumps(\n\u001b[1;32m   2355\u001b[0m         model_config, default=json_utils.get_json_type, **kwargs)\n",
            "\u001b[0;32m/usr/local/lib/python3.7/dist-packages/keras/engine/training.py\u001b[0m in \u001b[0;36m_updated_config\u001b[0;34m(self)\u001b[0m\n\u001b[1;32m   2309\u001b[0m     \u001b[0;32mfrom\u001b[0m \u001b[0mkeras\u001b[0m \u001b[0;32mimport\u001b[0m \u001b[0m__version__\u001b[0m \u001b[0;32mas\u001b[0m \u001b[0mkeras_version\u001b[0m  \u001b[0;31m# pylint: disable=g-import-not-at-top\u001b[0m\u001b[0;34m\u001b[0m\u001b[0;34m\u001b[0m\u001b[0m\n\u001b[1;32m   2310\u001b[0m \u001b[0;34m\u001b[0m\u001b[0m\n\u001b[0;32m-> 2311\u001b[0;31m     \u001b[0mconfig\u001b[0m \u001b[0;34m=\u001b[0m \u001b[0mself\u001b[0m\u001b[0;34m.\u001b[0m\u001b[0mget_config\u001b[0m\u001b[0;34m(\u001b[0m\u001b[0;34m)\u001b[0m\u001b[0;34m\u001b[0m\u001b[0;34m\u001b[0m\u001b[0m\n\u001b[0m\u001b[1;32m   2312\u001b[0m     model_config = {\n\u001b[1;32m   2313\u001b[0m         \u001b[0;34m'class_name'\u001b[0m\u001b[0;34m:\u001b[0m \u001b[0mself\u001b[0m\u001b[0;34m.\u001b[0m\u001b[0m__class__\u001b[0m\u001b[0;34m.\u001b[0m\u001b[0m__name__\u001b[0m\u001b[0;34m,\u001b[0m\u001b[0;34m\u001b[0m\u001b[0;34m\u001b[0m\u001b[0m\n",
            "\u001b[0;32m/usr/local/lib/python3.7/dist-packages/keras/engine/sequential.py\u001b[0m in \u001b[0;36mget_config\u001b[0;34m(self)\u001b[0m\n\u001b[1;32m    469\u001b[0m       \u001b[0;31m# of `self.layers`). Note that `self._self_tracked_trackables` is managed\u001b[0m\u001b[0;34m\u001b[0m\u001b[0;34m\u001b[0m\u001b[0;34m\u001b[0m\u001b[0m\n\u001b[1;32m    470\u001b[0m       \u001b[0;31m# by the tracking infrastructure and should not be used.\u001b[0m\u001b[0;34m\u001b[0m\u001b[0;34m\u001b[0m\u001b[0;34m\u001b[0m\u001b[0m\n\u001b[0;32m--> 471\u001b[0;31m       \u001b[0mlayer_configs\u001b[0m\u001b[0;34m.\u001b[0m\u001b[0mappend\u001b[0m\u001b[0;34m(\u001b[0m\u001b[0mgeneric_utils\u001b[0m\u001b[0;34m.\u001b[0m\u001b[0mserialize_keras_object\u001b[0m\u001b[0;34m(\u001b[0m\u001b[0mlayer\u001b[0m\u001b[0;34m)\u001b[0m\u001b[0;34m)\u001b[0m\u001b[0;34m\u001b[0m\u001b[0;34m\u001b[0m\u001b[0m\n\u001b[0m\u001b[1;32m    472\u001b[0m     config = {\n\u001b[1;32m    473\u001b[0m         \u001b[0;34m'name'\u001b[0m\u001b[0;34m:\u001b[0m \u001b[0mself\u001b[0m\u001b[0;34m.\u001b[0m\u001b[0mname\u001b[0m\u001b[0;34m,\u001b[0m\u001b[0;34m\u001b[0m\u001b[0;34m\u001b[0m\u001b[0m\n",
            "\u001b[0;32m/usr/local/lib/python3.7/dist-packages/keras/utils/generic_utils.py\u001b[0m in \u001b[0;36mserialize_keras_object\u001b[0;34m(instance)\u001b[0m\n\u001b[1;32m    506\u001b[0m         return serialize_keras_class_and_config(\n\u001b[1;32m    507\u001b[0m             name, {_LAYER_UNDEFINED_CONFIG_KEY: True})\n\u001b[0;32m--> 508\u001b[0;31m       \u001b[0;32mraise\u001b[0m \u001b[0me\u001b[0m\u001b[0;34m\u001b[0m\u001b[0;34m\u001b[0m\u001b[0m\n\u001b[0m\u001b[1;32m    509\u001b[0m     \u001b[0mserialization_config\u001b[0m \u001b[0;34m=\u001b[0m \u001b[0;34m{\u001b[0m\u001b[0;34m}\u001b[0m\u001b[0;34m\u001b[0m\u001b[0;34m\u001b[0m\u001b[0m\n\u001b[1;32m    510\u001b[0m     \u001b[0;32mfor\u001b[0m \u001b[0mkey\u001b[0m\u001b[0;34m,\u001b[0m \u001b[0mitem\u001b[0m \u001b[0;32min\u001b[0m \u001b[0mconfig\u001b[0m\u001b[0;34m.\u001b[0m\u001b[0mitems\u001b[0m\u001b[0;34m(\u001b[0m\u001b[0;34m)\u001b[0m\u001b[0;34m:\u001b[0m\u001b[0;34m\u001b[0m\u001b[0;34m\u001b[0m\u001b[0m\n",
            "\u001b[0;32m/usr/local/lib/python3.7/dist-packages/keras/utils/generic_utils.py\u001b[0m in \u001b[0;36mserialize_keras_object\u001b[0;34m(instance)\u001b[0m\n\u001b[1;32m    501\u001b[0m     \u001b[0mname\u001b[0m \u001b[0;34m=\u001b[0m \u001b[0mget_registered_name\u001b[0m\u001b[0;34m(\u001b[0m\u001b[0minstance\u001b[0m\u001b[0;34m.\u001b[0m\u001b[0m__class__\u001b[0m\u001b[0;34m)\u001b[0m\u001b[0;34m\u001b[0m\u001b[0;34m\u001b[0m\u001b[0m\n\u001b[1;32m    502\u001b[0m     \u001b[0;32mtry\u001b[0m\u001b[0;34m:\u001b[0m\u001b[0;34m\u001b[0m\u001b[0;34m\u001b[0m\u001b[0m\n\u001b[0;32m--> 503\u001b[0;31m       \u001b[0mconfig\u001b[0m \u001b[0;34m=\u001b[0m \u001b[0minstance\u001b[0m\u001b[0;34m.\u001b[0m\u001b[0mget_config\u001b[0m\u001b[0;34m(\u001b[0m\u001b[0;34m)\u001b[0m\u001b[0;34m\u001b[0m\u001b[0;34m\u001b[0m\u001b[0m\n\u001b[0m\u001b[1;32m    504\u001b[0m     \u001b[0;32mexcept\u001b[0m \u001b[0mNotImplementedError\u001b[0m \u001b[0;32mas\u001b[0m \u001b[0me\u001b[0m\u001b[0;34m:\u001b[0m\u001b[0;34m\u001b[0m\u001b[0;34m\u001b[0m\u001b[0m\n\u001b[1;32m    505\u001b[0m       \u001b[0;32mif\u001b[0m \u001b[0m_SKIP_FAILED_SERIALIZATION\u001b[0m\u001b[0;34m:\u001b[0m\u001b[0;34m\u001b[0m\u001b[0;34m\u001b[0m\u001b[0m\n",
            "\u001b[0;32m/usr/local/lib/python3.7/dist-packages/keras/engine/base_layer.py\u001b[0m in \u001b[0;36mget_config\u001b[0;34m(self)\u001b[0m\n\u001b[1;32m    695\u001b[0m       raise NotImplementedError('Layer %s has arguments in `__init__` and '\n\u001b[1;32m    696\u001b[0m                                 \u001b[0;34m'therefore must override `get_config`.'\u001b[0m \u001b[0;34m%\u001b[0m\u001b[0;34m\u001b[0m\u001b[0;34m\u001b[0m\u001b[0m\n\u001b[0;32m--> 697\u001b[0;31m                                 self.__class__.__name__)\n\u001b[0m\u001b[1;32m    698\u001b[0m     \u001b[0;32mreturn\u001b[0m \u001b[0mconfig\u001b[0m\u001b[0;34m\u001b[0m\u001b[0;34m\u001b[0m\u001b[0m\n\u001b[1;32m    699\u001b[0m \u001b[0;34m\u001b[0m\u001b[0m\n",
            "\u001b[0;31mNotImplementedError\u001b[0m: Layer ModuleWrapper has arguments in `__init__` and therefore must override `get_config`."
          ]
        }
      ]
    },
    {
      "cell_type": "code",
      "metadata": {
        "id": "XP8p5Dypx6DL"
      },
      "source": [
        ""
      ],
      "execution_count": null,
      "outputs": []
    }
  ]
}