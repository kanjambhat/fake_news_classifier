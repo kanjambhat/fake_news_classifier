{
  "nbformat": 4,
  "nbformat_minor": 0,
  "metadata": {
    "colab": {
      "name": "BiLSTM.ipynb",
      "provenance": []
    },
    "kernelspec": {
      "name": "python3",
      "display_name": "Python 3"
    },
    "language_info": {
      "name": "python"
    }
  },
  "cells": [
    {
      "cell_type": "code",
      "metadata": {
        "colab": {
          "base_uri": "https://localhost:8080/"
        },
        "id": "kpenpKnh1GDk",
        "outputId": "4e981cc1-98d4-4d1b-f8e1-93aaa3fcffa4"
      },
      "source": [
        "!pip install ftfy"
      ],
      "execution_count": 1,
      "outputs": [
        {
          "output_type": "stream",
          "text": [
            "Collecting ftfy\n",
            "\u001b[?25l  Downloading https://files.pythonhosted.org/packages/af/da/d215a091986e5f01b80f5145cff6f22e2dc57c6b048aab2e882a07018473/ftfy-6.0.3.tar.gz (64kB)\n",
            "\r\u001b[K     |█████                           | 10kB 14.9MB/s eta 0:00:01\r\u001b[K     |██████████▏                     | 20kB 20.3MB/s eta 0:00:01\r\u001b[K     |███████████████▎                | 30kB 24.0MB/s eta 0:00:01\r\u001b[K     |████████████████████▍           | 40kB 19.7MB/s eta 0:00:01\r\u001b[K     |█████████████████████████▌      | 51kB 17.0MB/s eta 0:00:01\r\u001b[K     |██████████████████████████████▋ | 61kB 19.0MB/s eta 0:00:01\r\u001b[K     |████████████████████████████████| 71kB 7.6MB/s \n",
            "\u001b[?25hRequirement already satisfied: wcwidth in /usr/local/lib/python3.7/dist-packages (from ftfy) (0.2.5)\n",
            "Building wheels for collected packages: ftfy\n",
            "  Building wheel for ftfy (setup.py) ... \u001b[?25l\u001b[?25hdone\n",
            "  Created wheel for ftfy: filename=ftfy-6.0.3-cp37-none-any.whl size=41935 sha256=719b9385a479dc8ae0e439ed346986a0b281ab285cdd0f2fca058c2186b7a55b\n",
            "  Stored in directory: /root/.cache/pip/wheels/99/2c/e6/109c8a28fef7a443f67ba58df21fe1d0067ac3322e75e6b0b7\n",
            "Successfully built ftfy\n",
            "Installing collected packages: ftfy\n",
            "Successfully installed ftfy-6.0.3\n"
          ],
          "name": "stdout"
        }
      ]
    },
    {
      "cell_type": "code",
      "metadata": {
        "colab": {
          "base_uri": "https://localhost:8080/"
        },
        "id": "vDlKcjKX1O_1",
        "outputId": "0ddb1d5f-686a-4b8c-f1f6-1380dda2ec09"
      },
      "source": [
        "from google.colab import drive\n",
        "drive.mount('/content/gdrive',force_remount=True)"
      ],
      "execution_count": 2,
      "outputs": [
        {
          "output_type": "stream",
          "text": [
            "Mounted at /content/gdrive\n"
          ],
          "name": "stdout"
        }
      ]
    },
    {
      "cell_type": "code",
      "metadata": {
        "id": "aBy5WzOM3UGw"
      },
      "source": [
        "import re #matching regular expression\n",
        "import ftfy #fixes text for you:fixes all the junk characters\n",
        "import nltk#natural language toolkit\n",
        "import itertools #for iterations to matrix\n",
        "import numpy as np #for array\n",
        "import warnings #overcome warnings\n",
        "warnings.filterwarnings(\"ignore\")\n",
        "import pandas as pd #read data\n",
        "import pickle as pkl #store tokenizer\n",
        "from pathlib import Path #create json file\n",
        "from nltk import PorterStemmer #for stemming process\n",
        "import matplotlib.pyplot as plt #plot confusion matrix\n",
        "from nltk.corpus import stopwords #for remove stop words\n",
        "from sklearn.model_selection import train_test_split #split data\n",
        "from keras.models import Model, Sequential #adding layers one by one\n",
        "from keras.optimizers import Adam #for optimize the training\n",
        "from keras.preprocessing.text import Tokenizer #to genarate unique number for uniq words\n",
        "from keras.preprocessing.sequence import pad_sequences #for making all the record has same shape\n",
        "from sklearn.metrics import  classification_report, confusion_matrix, accuracy_score #for evaluate the model accuracy\n",
        "from keras.layers import Conv1D, Dense, Input, LSTM, Embedding, Dropout, Activation, MaxPooling1D #Layers for build model\n",
        "from keras.layers import Bidirectional"
      ],
      "execution_count": 3,
      "outputs": []
    },
    {
      "cell_type": "code",
      "metadata": {
        "id": "NAz8gnXB3o9v"
      },
      "source": [
        "np.random.seed(1234)"
      ],
      "execution_count": 7,
      "outputs": []
    },
    {
      "cell_type": "code",
      "metadata": {
        "id": "AsOGBG2B3sX1"
      },
      "source": [
        "max_length=300\n",
        "nb_max_words=100000\n",
        "embedding_dim=10"
      ],
      "execution_count": 6,
      "outputs": []
    },
    {
      "cell_type": "code",
      "metadata": {
        "id": "Ew7__2ZD3wUc"
      },
      "source": [
        "fake_news = '/content/gdrive/MyDrive/Fake_News/Fake.csv'\n",
        "true_news = '/content/gdrive/MyDrive/Fake_News/True.csv'"
      ],
      "execution_count": 8,
      "outputs": []
    },
    {
      "cell_type": "code",
      "metadata": {
        "id": "JmJVJxK_NuHu"
      },
      "source": [
        "df_fake_news = pd.read_csv(fake_news)\n",
        "df_true_news = pd.read_csv(true_news)"
      ],
      "execution_count": 9,
      "outputs": []
    },
    {
      "cell_type": "code",
      "metadata": {
        "colab": {
          "base_uri": "https://localhost:8080/",
          "height": 204
        },
        "id": "0NCdUb9vNw_D",
        "outputId": "552c3d4f-ef51-4fc5-b42a-a11d49f8ac07"
      },
      "source": [
        "df_fake_news.head()"
      ],
      "execution_count": 10,
      "outputs": [
        {
          "output_type": "execute_result",
          "data": {
            "text/html": [
              "<div>\n",
              "<style scoped>\n",
              "    .dataframe tbody tr th:only-of-type {\n",
              "        vertical-align: middle;\n",
              "    }\n",
              "\n",
              "    .dataframe tbody tr th {\n",
              "        vertical-align: top;\n",
              "    }\n",
              "\n",
              "    .dataframe thead th {\n",
              "        text-align: right;\n",
              "    }\n",
              "</style>\n",
              "<table border=\"1\" class=\"dataframe\">\n",
              "  <thead>\n",
              "    <tr style=\"text-align: right;\">\n",
              "      <th></th>\n",
              "      <th>title</th>\n",
              "      <th>text</th>\n",
              "      <th>subject</th>\n",
              "      <th>date</th>\n",
              "    </tr>\n",
              "  </thead>\n",
              "  <tbody>\n",
              "    <tr>\n",
              "      <th>0</th>\n",
              "      <td>Donald Trump Sends Out Embarrassing New Year’...</td>\n",
              "      <td>Donald Trump just couldn t wish all Americans ...</td>\n",
              "      <td>News</td>\n",
              "      <td>December 31, 2017</td>\n",
              "    </tr>\n",
              "    <tr>\n",
              "      <th>1</th>\n",
              "      <td>Drunk Bragging Trump Staffer Started Russian ...</td>\n",
              "      <td>House Intelligence Committee Chairman Devin Nu...</td>\n",
              "      <td>News</td>\n",
              "      <td>December 31, 2017</td>\n",
              "    </tr>\n",
              "    <tr>\n",
              "      <th>2</th>\n",
              "      <td>Sheriff David Clarke Becomes An Internet Joke...</td>\n",
              "      <td>On Friday, it was revealed that former Milwauk...</td>\n",
              "      <td>News</td>\n",
              "      <td>December 30, 2017</td>\n",
              "    </tr>\n",
              "    <tr>\n",
              "      <th>3</th>\n",
              "      <td>Trump Is So Obsessed He Even Has Obama’s Name...</td>\n",
              "      <td>On Christmas day, Donald Trump announced that ...</td>\n",
              "      <td>News</td>\n",
              "      <td>December 29, 2017</td>\n",
              "    </tr>\n",
              "    <tr>\n",
              "      <th>4</th>\n",
              "      <td>Pope Francis Just Called Out Donald Trump Dur...</td>\n",
              "      <td>Pope Francis used his annual Christmas Day mes...</td>\n",
              "      <td>News</td>\n",
              "      <td>December 25, 2017</td>\n",
              "    </tr>\n",
              "  </tbody>\n",
              "</table>\n",
              "</div>"
            ],
            "text/plain": [
              "                                               title  ...               date\n",
              "0   Donald Trump Sends Out Embarrassing New Year’...  ...  December 31, 2017\n",
              "1   Drunk Bragging Trump Staffer Started Russian ...  ...  December 31, 2017\n",
              "2   Sheriff David Clarke Becomes An Internet Joke...  ...  December 30, 2017\n",
              "3   Trump Is So Obsessed He Even Has Obama’s Name...  ...  December 29, 2017\n",
              "4   Pope Francis Just Called Out Donald Trump Dur...  ...  December 25, 2017\n",
              "\n",
              "[5 rows x 4 columns]"
            ]
          },
          "metadata": {
            "tags": []
          },
          "execution_count": 10
        }
      ]
    },
    {
      "cell_type": "code",
      "metadata": {
        "colab": {
          "base_uri": "https://localhost:8080/",
          "height": 204
        },
        "id": "Eww-94nmN1DO",
        "outputId": "0358549a-65ee-4367-e3b0-13d7125849e4"
      },
      "source": [
        "df_true_news.head()"
      ],
      "execution_count": 11,
      "outputs": [
        {
          "output_type": "execute_result",
          "data": {
            "text/html": [
              "<div>\n",
              "<style scoped>\n",
              "    .dataframe tbody tr th:only-of-type {\n",
              "        vertical-align: middle;\n",
              "    }\n",
              "\n",
              "    .dataframe tbody tr th {\n",
              "        vertical-align: top;\n",
              "    }\n",
              "\n",
              "    .dataframe thead th {\n",
              "        text-align: right;\n",
              "    }\n",
              "</style>\n",
              "<table border=\"1\" class=\"dataframe\">\n",
              "  <thead>\n",
              "    <tr style=\"text-align: right;\">\n",
              "      <th></th>\n",
              "      <th>title</th>\n",
              "      <th>text</th>\n",
              "      <th>subject</th>\n",
              "      <th>date</th>\n",
              "    </tr>\n",
              "  </thead>\n",
              "  <tbody>\n",
              "    <tr>\n",
              "      <th>0</th>\n",
              "      <td>As U.S. budget fight looms, Republicans flip t...</td>\n",
              "      <td>WASHINGTON (Reuters) - The head of a conservat...</td>\n",
              "      <td>politicsNews</td>\n",
              "      <td>December 31, 2017</td>\n",
              "    </tr>\n",
              "    <tr>\n",
              "      <th>1</th>\n",
              "      <td>U.S. military to accept transgender recruits o...</td>\n",
              "      <td>WASHINGTON (Reuters) - Transgender people will...</td>\n",
              "      <td>politicsNews</td>\n",
              "      <td>December 29, 2017</td>\n",
              "    </tr>\n",
              "    <tr>\n",
              "      <th>2</th>\n",
              "      <td>Senior U.S. Republican senator: 'Let Mr. Muell...</td>\n",
              "      <td>WASHINGTON (Reuters) - The special counsel inv...</td>\n",
              "      <td>politicsNews</td>\n",
              "      <td>December 31, 2017</td>\n",
              "    </tr>\n",
              "    <tr>\n",
              "      <th>3</th>\n",
              "      <td>FBI Russia probe helped by Australian diplomat...</td>\n",
              "      <td>WASHINGTON (Reuters) - Trump campaign adviser ...</td>\n",
              "      <td>politicsNews</td>\n",
              "      <td>December 30, 2017</td>\n",
              "    </tr>\n",
              "    <tr>\n",
              "      <th>4</th>\n",
              "      <td>Trump wants Postal Service to charge 'much mor...</td>\n",
              "      <td>SEATTLE/WASHINGTON (Reuters) - President Donal...</td>\n",
              "      <td>politicsNews</td>\n",
              "      <td>December 29, 2017</td>\n",
              "    </tr>\n",
              "  </tbody>\n",
              "</table>\n",
              "</div>"
            ],
            "text/plain": [
              "                                               title  ...                date\n",
              "0  As U.S. budget fight looms, Republicans flip t...  ...  December 31, 2017 \n",
              "1  U.S. military to accept transgender recruits o...  ...  December 29, 2017 \n",
              "2  Senior U.S. Republican senator: 'Let Mr. Muell...  ...  December 31, 2017 \n",
              "3  FBI Russia probe helped by Australian diplomat...  ...  December 30, 2017 \n",
              "4  Trump wants Postal Service to charge 'much mor...  ...  December 29, 2017 \n",
              "\n",
              "[5 rows x 4 columns]"
            ]
          },
          "metadata": {
            "tags": []
          },
          "execution_count": 11
        }
      ]
    },
    {
      "cell_type": "code",
      "metadata": {
        "id": "DE0XPv8HN3L8"
      },
      "source": [
        "cList = pkl.load(open('/content/gdrive/MyDrive/Fake_News/cword_dict.pkl','rb'))"
      ],
      "execution_count": 12,
      "outputs": []
    },
    {
      "cell_type": "code",
      "metadata": {
        "id": "dQWtmbUhN55F"
      },
      "source": [
        "c_re = re.compile('(%s)' % '|'.join(cList.keys()))"
      ],
      "execution_count": 13,
      "outputs": []
    },
    {
      "cell_type": "code",
      "metadata": {
        "id": "SZqg7ClbOPBx"
      },
      "source": [
        "def expandContractions(text, c_re=c_re):\n",
        "    def replace(match):\n",
        "        return cList[match.group(0)]\n",
        "    return c_re.sub(replace, text)"
      ],
      "execution_count": 14,
      "outputs": []
    },
    {
      "cell_type": "code",
      "metadata": {
        "id": "wjvMCTIfORZB"
      },
      "source": [
        "def clean_news(newses):\n",
        "    cleaned_news = []\n",
        "    for news in newses:\n",
        "        news = str(news)\n",
        "        if re.match(\"(\\w+:\\/\\/\\S+)\", news) == None and len(news) > 5:\n",
        "            news = ' '.join(re.sub(\"(@[A-Za-z0-9]+)|(\\#[A-Za-z0-9]+)|(<Emoji:.*>)|(pic\\.twitter\\.com\\/.*)\", \" \", news).split())\n",
        "            news = ftfy.fix_text(news)\n",
        "            news = expandContractions(news)\n",
        "            news = ' '.join(re.sub(\"([^0-9A-Za-z \\t])\", \" \", news).split())\n",
        "            stop_words = stopwords.words('english')\n",
        "            word_tokens = nltk.word_tokenize(news) \n",
        "            filtered_sentence = [w for w in word_tokens if not w in stop_words]\n",
        "            news = ' '.join(filtered_sentence)\n",
        "            news = PorterStemmer().stem(news)\n",
        "            cleaned_news.append(news)\n",
        "    return cleaned_news"
      ],
      "execution_count": 15,
      "outputs": []
    },
    {
      "cell_type": "code",
      "metadata": {
        "id": "aWgqBkZzOTsI"
      },
      "source": [
        "arr_fake_news = [x for x in df_fake_news['text']]\n",
        "arr_true_news = [x for x in df_true_news['text']]"
      ],
      "execution_count": 16,
      "outputs": []
    },
    {
      "cell_type": "code",
      "metadata": {
        "colab": {
          "base_uri": "https://localhost:8080/"
        },
        "id": "VT_Da9KAOWVy",
        "outputId": "18c045a1-78e8-426c-c371-5ef5a6bce537"
      },
      "source": [
        "nltk.download('stopwords')\n",
        "nltk.download('punkt')"
      ],
      "execution_count": 17,
      "outputs": [
        {
          "output_type": "stream",
          "text": [
            "[nltk_data] Downloading package stopwords to /root/nltk_data...\n",
            "[nltk_data]   Unzipping corpora/stopwords.zip.\n",
            "[nltk_data] Downloading package punkt to /root/nltk_data...\n",
            "[nltk_data]   Unzipping tokenizers/punkt.zip.\n"
          ],
          "name": "stdout"
        },
        {
          "output_type": "execute_result",
          "data": {
            "text/plain": [
              "True"
            ]
          },
          "metadata": {
            "tags": []
          },
          "execution_count": 17
        }
      ]
    },
    {
      "cell_type": "code",
      "metadata": {
        "id": "LGw1GynnOagu"
      },
      "source": [
        "cleaned_fake_news = clean_news(arr_fake_news)\n",
        "cleaned_true_news = clean_news(arr_true_news)"
      ],
      "execution_count": 18,
      "outputs": []
    },
    {
      "cell_type": "code",
      "metadata": {
        "id": "xwYJPe8iOdGe"
      },
      "source": [
        "# tokenizer = Tokenizer(num_words=nb_max_words)\n",
        "# print(tokenizer)\n",
        "# tokenizer.fit_on_texts(cleaned_fake_news + cleaned_true_news)\n",
        "from keras.preprocessing.text import one_hot\n"
      ],
      "execution_count": 19,
      "outputs": []
    },
    {
      "cell_type": "code",
      "metadata": {
        "id": "lkdKPK-yOjg9"
      },
      "source": [
        "# sequences_fake = tokenizer.texts_to_sequences(cleaned_fake_news)\n",
        "# sequences_true = tokenizer.texts_to_sequences(cleaned_true_news)\n",
        "\n",
        "sequences_fake=[one_hot(words,nb_max_words) for words in cleaned_fake_news]\n",
        "sequences_true=[one_hot(words,nb_max_words) for words in cleaned_true_news]"
      ],
      "execution_count": 20,
      "outputs": []
    },
    {
      "cell_type": "code",
      "metadata": {
        "colab": {
          "base_uri": "https://localhost:8080/"
        },
        "id": "iu5rBrMZOn6M",
        "outputId": "39564c3a-dfe2-4867-de1f-0e0d528a7061"
      },
      "source": [
        "data_f = pad_sequences(sequences_fake,padding='pre', maxlen=max_length)\n",
        "data_t = pad_sequences(sequences_true,padding='pre', maxlen=max_length)\n",
        "print('Shape of data_fake tensor:', data_f.shape)\n",
        "print('Shape of data_true tensor:', data_t.shape)"
      ],
      "execution_count": 21,
      "outputs": [
        {
          "output_type": "stream",
          "text": [
            "Shape of data_fake tensor: (22755, 300)\n",
            "Shape of data_true tensor: (21416, 300)\n"
          ],
          "name": "stdout"
        }
      ]
    },
    {
      "cell_type": "code",
      "metadata": {
        "id": "vks8Ls6SO2tM"
      },
      "source": [
        "data = np.concatenate((data_f, data_t))"
      ],
      "execution_count": 22,
      "outputs": []
    },
    {
      "cell_type": "code",
      "metadata": {
        "colab": {
          "base_uri": "https://localhost:8080/"
        },
        "id": "-u29v0dvPbSP",
        "outputId": "48bd9371-5471-4b11-f994-9852f8e66623"
      },
      "source": [
        "labels_f = np.ones(data_f.shape[0])\n",
        "labels_t = np.zeros(data_t.shape[0])\n",
        "print(labels_f.shape, labels_t.shape)"
      ],
      "execution_count": 23,
      "outputs": [
        {
          "output_type": "stream",
          "text": [
            "(22755,) (21416,)\n"
          ],
          "name": "stdout"
        }
      ]
    },
    {
      "cell_type": "code",
      "metadata": {
        "id": "MjsfZ7VNPdzR"
      },
      "source": [
        "labels = np.concatenate((labels_f, labels_t))"
      ],
      "execution_count": 24,
      "outputs": []
    },
    {
      "cell_type": "code",
      "metadata": {
        "id": "wezWcslqPgNi"
      },
      "source": [
        "X_train, X_test, Y_train, Y_test = train_test_split(data, labels, test_size = 0.2, random_state=42)"
      ],
      "execution_count": 25,
      "outputs": []
    },
    {
      "cell_type": "code",
      "metadata": {
        "colab": {
          "base_uri": "https://localhost:8080/"
        },
        "id": "Xv43TgSnPioj",
        "outputId": "251bd881-a926-4ae3-cbe4-5f9572c7663d"
      },
      "source": [
        "model=Sequential()\n",
        "model.add(Embedding(nb_max_words,embedding_dim,input_length=max_length))\n",
        "model.add(Dropout(0.3))\n",
        "model.add(Bidirectional(LSTM(100)))\n",
        "model.add(Dropout(0.3))\n",
        "model.add(Dense(64,activation='relu'))\n",
        "model.add(Dropout(0.4))\n",
        "model.add(Dense(1,activation='sigmoid'))\n",
        "model.compile(optimizer='adam',loss='binary_crossentropy',metrics=['accuracy'])\n",
        "print(model.summary())"
      ],
      "execution_count": 27,
      "outputs": [
        {
          "output_type": "stream",
          "text": [
            "Model: \"sequential\"\n",
            "_________________________________________________________________\n",
            "Layer (type)                 Output Shape              Param #   \n",
            "=================================================================\n",
            "embedding (Embedding)        (None, 300, 10)           1000000   \n",
            "_________________________________________________________________\n",
            "dropout (Dropout)            (None, 300, 10)           0         \n",
            "_________________________________________________________________\n",
            "bidirectional (Bidirectional (None, 200)               88800     \n",
            "_________________________________________________________________\n",
            "dropout_1 (Dropout)          (None, 200)               0         \n",
            "_________________________________________________________________\n",
            "dense (Dense)                (None, 64)                12864     \n",
            "_________________________________________________________________\n",
            "dropout_2 (Dropout)          (None, 64)                0         \n",
            "_________________________________________________________________\n",
            "dense_1 (Dense)              (None, 1)                 65        \n",
            "=================================================================\n",
            "Total params: 1,101,729\n",
            "Trainable params: 1,101,729\n",
            "Non-trainable params: 0\n",
            "_________________________________________________________________\n",
            "None\n"
          ],
          "name": "stdout"
        }
      ]
    },
    {
      "cell_type": "code",
      "metadata": {
        "colab": {
          "base_uri": "https://localhost:8080/"
        },
        "id": "4bNT3ioHRXDl",
        "outputId": "d78fe832-aaa4-44ab-af4d-43ca20bfad5c"
      },
      "source": [
        "model.fit(X_train,Y_train,validation_data=(X_test,Y_test),epochs=10,batch_size=64)"
      ],
      "execution_count": 28,
      "outputs": [
        {
          "output_type": "stream",
          "text": [
            "Epoch 1/10\n",
            "553/553 [==============================] - 308s 515ms/step - loss: 0.3095 - accuracy: 0.8344 - val_loss: 0.0521 - val_accuracy: 0.9851\n",
            "Epoch 2/10\n",
            "553/553 [==============================] - 283s 512ms/step - loss: 0.0380 - accuracy: 0.9885 - val_loss: 0.0315 - val_accuracy: 0.9899\n",
            "Epoch 3/10\n",
            "553/553 [==============================] - 286s 517ms/step - loss: 0.0323 - accuracy: 0.9923 - val_loss: 0.0572 - val_accuracy: 0.9821\n",
            "Epoch 4/10\n",
            "553/553 [==============================] - 286s 517ms/step - loss: 0.0230 - accuracy: 0.9936 - val_loss: 0.0346 - val_accuracy: 0.9921\n",
            "Epoch 5/10\n",
            "553/553 [==============================] - 285s 516ms/step - loss: 0.0136 - accuracy: 0.9962 - val_loss: 0.0384 - val_accuracy: 0.9887\n",
            "Epoch 6/10\n",
            "553/553 [==============================] - 284s 514ms/step - loss: 0.0121 - accuracy: 0.9962 - val_loss: 0.0471 - val_accuracy: 0.9917\n",
            "Epoch 7/10\n",
            "553/553 [==============================] - 286s 516ms/step - loss: 0.0046 - accuracy: 0.9988 - val_loss: 0.0483 - val_accuracy: 0.9908\n",
            "Epoch 8/10\n",
            "553/553 [==============================] - 283s 512ms/step - loss: 0.0070 - accuracy: 0.9981 - val_loss: 0.0581 - val_accuracy: 0.9877\n",
            "Epoch 9/10\n",
            "553/553 [==============================] - 284s 514ms/step - loss: 0.0039 - accuracy: 0.9986 - val_loss: 0.0536 - val_accuracy: 0.9904\n",
            "Epoch 10/10\n",
            "553/553 [==============================] - 285s 515ms/step - loss: 0.0019 - accuracy: 0.9994 - val_loss: 0.0478 - val_accuracy: 0.9898\n"
          ],
          "name": "stdout"
        },
        {
          "output_type": "execute_result",
          "data": {
            "text/plain": [
              "<keras.callbacks.History at 0x7fce506c8950>"
            ]
          },
          "metadata": {
            "tags": []
          },
          "execution_count": 28
        }
      ]
    },
    {
      "cell_type": "code",
      "metadata": {
        "id": "KzqqQ6HNRm2P"
      },
      "source": [
        "model.save('BiLSTM_model (1).h5')"
      ],
      "execution_count": 29,
      "outputs": []
    },
    {
      "cell_type": "code",
      "metadata": {
        "id": "0fIBGY6hiupn"
      },
      "source": [
        ""
      ],
      "execution_count": null,
      "outputs": []
    }
  ]
}